{
  "nbformat": 4,
  "nbformat_minor": 0,
  "metadata": {
    "colab": {
      "provenance": [],
      "toc_visible": true,
      "authorship_tag": "ABX9TyOdeKm6lPaWpF0CNMV//mkX",
      "include_colab_link": true
    },
    "kernelspec": {
      "name": "python3",
      "display_name": "Python 3"
    },
    "language_info": {
      "name": "python"
    }
  },
  "cells": [
    {
      "cell_type": "markdown",
      "metadata": {
        "id": "view-in-github",
        "colab_type": "text"
      },
      "source": [
        "<a href=\"https://colab.research.google.com/github/Laissantiago/Fundamentos-quinta-feira/blob/main/fundamentos01_quinta.ipynb\" target=\"_parent\"><img src=\"https://colab.research.google.com/assets/colab-badge.svg\" alt=\"Open In Colab\"/></a>"
      ]
    },
    {
      "cell_type": "markdown",
      "source": [
        "  # Importação de bibliotecas\n"
      ],
      "metadata": {
        "id": "yZCZpzY_Qa_U"
      }
    },
    {
      "cell_type": "code",
      "source": [
        "import numpy as np\n",
        "\n",
        "import pandas as pd"
      ],
      "metadata": {
        "id": "V-naRRZNQxgm"
      },
      "execution_count": null,
      "outputs": []
    },
    {
      "cell_type": "markdown",
      "source": [
        "# Funções Nativas\n",
        "\n",
        "- `print()`, `type()`, `len()`, `input()`, `dir()`\n",
        "- metodos de string: upper(),"
      ],
      "metadata": {
        "id": "HVBkwwkoTL8l"
      }
    },
    {
      "cell_type": "markdown",
      "source": [],
      "metadata": {
        "id": "LuBR2P6VZsHn"
      }
    },
    {
      "cell_type": "code",
      "execution_count": 18,
      "metadata": {
        "id": "6y4zc_ozoqAu",
        "colab": {
          "base_uri": "https://localhost:8080/"
        },
        "outputId": "54e159cf-dab0-40cd-ab06-5400350a1c6b"
      },
      "outputs": [
        {
          "output_type": "stream",
          "name": "stdout",
          "text": [
            "2\n",
            "<class 'list'>\n",
            "2\n",
            "String antes do strip: minicurso de analise de dados\n",
            "String depois do strip: minicurso de analise de dados\n",
            "['01/02/2024', '08/02/2024']\n",
            "a data do encontro:01/02/2024\n",
            "01/02/2024\n",
            "###\n",
            "a data do encontro:08/02/2024\n",
            "08/02/2024\n",
            "###\n"
          ]
        }
      ],
      "source": [
        "tipo_encontro = \"minicurso de analise de dados\"\n",
        "\n",
        "dia_encontro = 2\n",
        "\n",
        "lista_encontro = [\"01/02/2024\", \"08/02/2024\"]\n",
        "\n",
        "print(dia_encontro)\n",
        "\n",
        "print(type(lista_encontro))\n",
        "\n",
        "print(len(lista_encontro))\n",
        "\n",
        "print(f'String antes do strip: {tipo_encontro}')\n",
        "tipo_encontro2 = tipo_encontro.strip()\n",
        "print(f\"String depois do strip: {tipo_encontro2.strip()}\")\n",
        "\n",
        "\"\"\"\n",
        "tipo_encontro2.split(\" \")\n",
        "print(dir(lista_encontro))\n",
        "tipo_encontro.count(\" \")\n",
        "\"\"\"\n",
        "print(lista_encontro)\n",
        "for encontro in lista_encontro:\n",
        "  if encontro == \"01/02/2024\"\n",
        "  print(\"a data do encontro:\" + encontro)\n",
        "  print(encontro)\n",
        "  print(\"###\")"
      ]
    },
    {
      "cell_type": "markdown",
      "source": [
        "### Nossa própria função"
      ],
      "metadata": {
        "id": "sj2mJJCnirGd"
      }
    },
    {
      "cell_type": "code",
      "source": [
        "def primeira_função(numero1, numero2):\n",
        "  \"\"\"reponsavel por somar\"\"\"\n",
        "  print(\"minha primeira função\")\n",
        "  print(numero1 + numero2)\n",
        "\n",
        "somar = input(\"Indique dois numeros para serem somados: \")"
      ],
      "metadata": {
        "id": "3CR3fnBCiz3c"
      },
      "execution_count": null,
      "outputs": []
    }
  ]
}