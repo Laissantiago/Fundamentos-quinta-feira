{
  "nbformat": 4,
  "nbformat_minor": 0,
  "metadata": {
    "colab": {
      "provenance": [],
      "toc_visible": true,
      "authorship_tag": "ABX9TyMFOGx4CQBCippGm6rLV8D1",
      "include_colab_link": true
    },
    "kernelspec": {
      "name": "python3",
      "display_name": "Python 3"
    },
    "language_info": {
      "name": "python"
    }
  },
  "cells": [
    {
      "cell_type": "markdown",
      "metadata": {
        "id": "view-in-github",
        "colab_type": "text"
      },
      "source": [
        "<a href=\"https://colab.research.google.com/github/Laissantiago/Fundamentos-quinta-feira/blob/main/fundamentos01_quinta.ipynb\" target=\"_parent\"><img src=\"https://colab.research.google.com/assets/colab-badge.svg\" alt=\"Open In Colab\"/></a>"
      ]
    },
    {
      "cell_type": "markdown",
      "source": [
        "  # Importação de bibliotecas\n"
      ],
      "metadata": {
        "id": "yZCZpzY_Qa_U"
      }
    },
    {
      "cell_type": "code",
      "source": [
        "import numpy as np\n",
        "\n",
        "import pandas as pd"
      ],
      "metadata": {
        "id": "V-naRRZNQxgm"
      },
      "execution_count": 7,
      "outputs": []
    },
    {
      "cell_type": "markdown",
      "source": [
        "# Funções Nativas"
      ],
      "metadata": {
        "id": "HVBkwwkoTL8l"
      }
    },
    {
      "cell_type": "code",
      "source": [
        "type (\"olá mundo!\")"
      ],
      "metadata": {
        "colab": {
          "base_uri": "https://localhost:8080/"
        },
        "id": "G1PXaasRRz13",
        "outputId": "e4d2e697-45eb-41ec-a06d-0f5236df33d4"
      },
      "execution_count": 11,
      "outputs": [
        {
          "output_type": "execute_result",
          "data": {
            "text/plain": [
              "str"
            ]
          },
          "metadata": {},
          "execution_count": 11
        }
      ]
    },
    {
      "cell_type": "code",
      "execution_count": 5,
      "metadata": {
        "id": "6y4zc_ozoqAu",
        "colab": {
          "base_uri": "https://localhost:8080/"
        },
        "outputId": "516ec7d7-da77-441f-d018-1f3ebdd7590b"
      },
      "outputs": [
        {
          "output_type": "stream",
          "name": "stdout",
          "text": [
            "olá mundo!\n"
          ]
        }
      ],
      "source": [
        "print (\"olá mundo!\")"
      ]
    }
  ]
}