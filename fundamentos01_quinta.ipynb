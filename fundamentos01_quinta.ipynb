{
  "nbformat": 4,
  "nbformat_minor": 0,
  "metadata": {
    "colab": {
      "provenance": [],
      "toc_visible": true,
      "authorship_tag": "ABX9TyOqOZ36bifb93oTrD0gEQSa",
      "include_colab_link": true
    },
    "kernelspec": {
      "name": "python3",
      "display_name": "Python 3"
    },
    "language_info": {
      "name": "python"
    }
  },
  "cells": [
    {
      "cell_type": "markdown",
      "metadata": {
        "id": "view-in-github",
        "colab_type": "text"
      },
      "source": [
        "<a href=\"https://colab.research.google.com/github/Laissantiago/Fundamentos-quinta-feira/blob/main/fundamentos01_quinta.ipynb\" target=\"_parent\"><img src=\"https://colab.research.google.com/assets/colab-badge.svg\" alt=\"Open In Colab\"/></a>"
      ]
    },
    {
      "cell_type": "markdown",
      "source": [
        "  # Importação de bibliotecas\n"
      ],
      "metadata": {
        "id": "yZCZpzY_Qa_U"
      }
    },
    {
      "cell_type": "code",
      "source": [
        "import numpy as np\n",
        "\n",
        "import pandas as pd"
      ],
      "metadata": {
        "id": "V-naRRZNQxgm"
      },
      "execution_count": null,
      "outputs": []
    },
    {
      "cell_type": "markdown",
      "source": [
        "# Funções Nativas\n",
        "\n",
        "- `print()`, `type()`, `len()`, `imput()`, `dir()`\n",
        "- metodos de string:"
      ],
      "metadata": {
        "id": "HVBkwwkoTL8l"
      }
    },
    {
      "cell_type": "markdown",
      "source": [],
      "metadata": {
        "id": "LuBR2P6VZsHn"
      }
    },
    {
      "cell_type": "code",
      "execution_count": 11,
      "metadata": {
        "id": "6y4zc_ozoqAu",
        "colab": {
          "base_uri": "https://localhost:8080/"
        },
        "outputId": "6a0912d6-3267-40e4-d3f9-4f30fda1057b"
      },
      "outputs": [
        {
          "output_type": "stream",
          "name": "stdout",
          "text": [
            "2\n",
            "<class 'list'>\n",
            "2\n",
            "String antes do strip: minicurso de analise de dados\n"
          ]
        }
      ],
      "source": [
        "tipo_encontro = \"minicurso de analise de dados\"\n",
        "\n",
        "dia_encontro = 2\n",
        "\n",
        "lista_encontro = [\"01/02/2024\", \"08/02/2024\"]\n",
        "\n",
        "print(dia_encontro)\n",
        "\n",
        "print(type(lista_encontro))\n",
        "\n",
        "print(len(lista_encontro))\n",
        "\n",
        "print(f'String antes do strip: {tipo_encontro}')\n",
        "\n",
        "tipo_encontro2 = tipo_encontro.strip()\n",
        "\n",
        "print(f)\n",
        "\n"
      ]
    },
    {
      "cell_type": "code",
      "source": [
        "print(dia_encontro)"
      ],
      "metadata": {
        "colab": {
          "base_uri": "https://localhost:8080/",
          "height": 175
        },
        "id": "DcyiEtvHbChP",
        "outputId": "6cf67f16-8402-46d5-a168-dd1a91f03c01"
      },
      "execution_count": 4,
      "outputs": [
        {
          "output_type": "error",
          "ename": "NameError",
          "evalue": "name 'dia_encontro' is not defined",
          "traceback": [
            "\u001b[0;31m---------------------------------------------------------------------------\u001b[0m",
            "\u001b[0;31mNameError\u001b[0m                                 Traceback (most recent call last)",
            "\u001b[0;32m<ipython-input-4-f614f87b02b3>\u001b[0m in \u001b[0;36m<cell line: 1>\u001b[0;34m()\u001b[0m\n\u001b[0;32m----> 1\u001b[0;31m \u001b[0mprint\u001b[0m\u001b[0;34m(\u001b[0m\u001b[0mdia_encontro\u001b[0m\u001b[0;34m)\u001b[0m\u001b[0;34m\u001b[0m\u001b[0;34m\u001b[0m\u001b[0m\n\u001b[0m",
            "\u001b[0;31mNameError\u001b[0m: name 'dia_encontro' is not defined"
          ]
        }
      ]
    }
  ]
}