{
  "nbformat": 4,
  "nbformat_minor": 0,
  "metadata": {
    "colab": {
      "provenance": [],
      "authorship_tag": "ABX9TyOOQFzX4+w5PH7lVADL4Vb5",
      "include_colab_link": true
    },
    "kernelspec": {
      "name": "python3",
      "display_name": "Python 3"
    },
    "language_info": {
      "name": "python"
    }
  },
  "cells": [
    {
      "cell_type": "markdown",
      "metadata": {
        "id": "view-in-github",
        "colab_type": "text"
      },
      "source": [
        "<a href=\"https://colab.research.google.com/github/Laissantiago/Fundamentos-quinta-feira/blob/main/fundamentos01_quinta.ipynb\" target=\"_parent\"><img src=\"https://colab.research.google.com/assets/colab-badge.svg\" alt=\"Open In Colab\"/></a>"
      ]
    },
    {
      "cell_type": "code",
      "execution_count": 5,
      "metadata": {
        "id": "6y4zc_ozoqAu",
        "colab": {
          "base_uri": "https://localhost:8080/"
        },
        "outputId": "516ec7d7-da77-441f-d018-1f3ebdd7590b"
      },
      "outputs": [
        {
          "output_type": "stream",
          "name": "stdout",
          "text": [
            "olá mundo!\n"
          ]
        }
      ],
      "source": [
        "print (\"olá mundo!\")"
      ]
    },
    {
      "cell_type": "markdown",
      "source": [
        "  Importação de bibliotecas\n"
      ],
      "metadata": {
        "id": "yZCZpzY_Qa_U"
      }
    },
    {
      "cell_type": "code",
      "source": [
        "import numpy as np\n",
        "\n",
        "import pandas as pd"
      ],
      "metadata": {
        "id": "V-naRRZNQxgm"
      },
      "execution_count": 7,
      "outputs": []
    },
    {
      "cell_type": "markdown",
      "source": [
        "Funções Nativas"
      ],
      "metadata": {
        "id": "Ned_3w8uRa9q"
      }
    },
    {
      "cell_type": "code",
      "source": [
        "type (\"olá mundo!\")\n",
        "\n",
        "print ()"
      ],
      "metadata": {
        "colab": {
          "base_uri": "https://localhost:8080/"
        },
        "id": "G1PXaasRRz13",
        "outputId": "b614bef2-12ee-4197-9c8a-d985596f0efb"
      },
      "execution_count": 9,
      "outputs": [
        {
          "output_type": "stream",
          "name": "stdout",
          "text": [
            "olá mundo!\n",
            "\n"
          ]
        }
      ]
    }
  ]
}